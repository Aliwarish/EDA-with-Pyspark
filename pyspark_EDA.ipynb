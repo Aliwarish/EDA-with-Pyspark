{
  "cells": [
    {
      "cell_type": "code",
      "execution_count": null,
      "id": "cbb8c885",
      "metadata": {
        "id": "cbb8c885"
      },
      "outputs": [],
      "source": [
        "from pyspark.sql import SparkSession\n",
        "spark = SparkSession.builder.appName(\"diabetes\").getOrCreate()\n"
      ]
    },
    {
      "cell_type": "code",
      "execution_count": null,
      "id": "27c4b196",
      "metadata": {
        "id": "27c4b196"
      },
      "outputs": [],
      "source": [
        "df = spark.read.csv(\"diabetes.csv\", header=True, inferSchema=True)\n",
        "df.show(2)"
      ]
    },
    {
      "cell_type": "code",
      "execution_count": null,
      "id": "a3c55b02",
      "metadata": {
        "id": "a3c55b02"
      },
      "outputs": [],
      "source": [
        "df.printSchema()"
      ]
    },
    {
      "cell_type": "code",
      "execution_count": null,
      "id": "f235ac13",
      "metadata": {
        "id": "f235ac13"
      },
      "outputs": [],
      "source": [
        "df.describe().toPandas()"
      ]
    },
    {
      "cell_type": "code",
      "execution_count": null,
      "id": "ee657165",
      "metadata": {
        "id": "ee657165"
      },
      "outputs": [],
      "source": [
        "df.groupby('Outcome').count().show()"
      ]
    },
    {
      "cell_type": "code",
      "execution_count": null,
      "id": "bf912e55",
      "metadata": {
        "id": "bf912e55"
      },
      "outputs": [],
      "source": [
        "import matplotlib.pyplot as plt\n",
        "import seaborn as sns"
      ]
    },
    {
      "cell_type": "code",
      "execution_count": null,
      "id": "03ebabe2",
      "metadata": {
        "id": "03ebabe2"
      },
      "outputs": [],
      "source": [
        "fig = plt.figure(figsize=(25, 15))\n",
        "st = fig.suptitle(\"Distribution of Features\", fontsize=50, verticalalignment=\"center\")\n",
        "for col, num in zip(df.toPandas().describe().columns, range(1,11)):\n",
        "  ax = fig.add_subplot(3,4, num)\n",
        "  ax.hist(df.toPandas()[col])\n",
        "  plt.grid(False)\n",
        "  plt.xticks(rotation=45, fontsize=20)\n",
        "  plt.yticks(fontsize=15)\n",
        "  plt.title(col.upper(), fontsize=20)\n",
        "\n",
        "plt.tight_layout()\n",
        "st.set_y(0.95)\n",
        "fig.subplots_adjust(top=0.85, hspace=0.4)\n",
        "plt.show()"
      ]
    },
    {
      "cell_type": "code",
      "execution_count": null,
      "id": "c0b2bab3",
      "metadata": {
        "id": "c0b2bab3"
      },
      "outputs": [],
      "source": [
        "from pyspark.sql.functions import isnan, when, count, col"
      ]
    },
    {
      "cell_type": "code",
      "execution_count": null,
      "id": "457b5097",
      "metadata": {
        "id": "457b5097"
      },
      "outputs": [],
      "source": [
        "df.select([count(when(isnan(c),c)).alias(c) for c in df.columns]).toPandas().head()"
      ]
    },
    {
      "cell_type": "markdown",
      "id": "03af67f3",
      "metadata": {
        "id": "03af67f3"
      },
      "source": [
        "# User Defined Functions (UDF)\n"
      ]
    },
    {
      "cell_type": "code",
      "execution_count": null,
      "id": "0d6d2ef6",
      "metadata": {
        "id": "0d6d2ef6"
      },
      "outputs": [],
      "source": [
        "from pyspark.sql.functions import udf\n",
        "from pyspark.sql.types import StringType"
      ]
    },
    {
      "cell_type": "code",
      "execution_count": null,
      "id": "8a1097cb",
      "metadata": {
        "id": "8a1097cb"
      },
      "outputs": [],
      "source": [
        "y_udf = udf(lambda y: \"no\" if y == 0 else \"yes\", StringType())"
      ]
    },
    {
      "cell_type": "code",
      "execution_count": null,
      "id": "c33759b7",
      "metadata": {
        "id": "c33759b7"
      },
      "outputs": [],
      "source": [
        "df = df.withColumn(\"HasDiabetes\",y_udf('Outcome')).drop(\"Outcome\")\n"
      ]
    },
    {
      "cell_type": "code",
      "execution_count": null,
      "id": "62ff522b",
      "metadata": {
        "id": "62ff522b"
      },
      "outputs": [],
      "source": [
        "df.show(3)"
      ]
    },
    {
      "cell_type": "code",
      "execution_count": null,
      "id": "e08c3b55",
      "metadata": {
        "id": "e08c3b55"
      },
      "outputs": [],
      "source": [
        "def udf_multi(age):\n",
        "  if (age < 25):\n",
        "    return \"Under 25\"\n",
        "  elif (age >=25 and age <= 35):\n",
        "    return \"Between 25 and 35\"\n",
        "  elif (age > 35 and age < 50):\n",
        "    return \"Between 36 and 50\"\n",
        "  elif (age >= 50):\n",
        "    return \"Over 50\"\n",
        "  else: return \"NA\""
      ]
    },
    {
      "cell_type": "code",
      "execution_count": null,
      "id": "cb4c1460",
      "metadata": {
        "id": "cb4c1460"
      },
      "outputs": [],
      "source": [
        "age_udf = udf(udf_multi)\n",
        "df = df.withColumn('age_udf', age_udf('Age'))"
      ]
    },
    {
      "cell_type": "code",
      "execution_count": null,
      "id": "d8cf7af5",
      "metadata": {
        "id": "d8cf7af5"
      },
      "outputs": [],
      "source": [
        "df.show(2)"
      ]
    },
    {
      "cell_type": "code",
      "execution_count": null,
      "id": "da9e69f1",
      "metadata": {
        "id": "da9e69f1"
      },
      "outputs": [],
      "source": [
        "from pyspark.sql import functions as F\n",
        "from pyspark.sql.functions import rank, sum, desc\n",
        "from pyspark.sql import Window"
      ]
    },
    {
      "cell_type": "code",
      "execution_count": null,
      "id": "9fcd4f2f",
      "metadata": {
        "id": "9fcd4f2f"
      },
      "outputs": [],
      "source": [
        "window = Window.rowsBetween(Window.unboundedPreceding, Window.unboundedFollowing)"
      ]
    },
    {
      "cell_type": "code",
      "execution_count": null,
      "id": "9c7255d6",
      "metadata": {
        "id": "9c7255d6"
      },
      "outputs": [],
      "source": [
        "age_group_tab = df.select([\"age_udf\",\"Glucose\"]).\\\n",
        "                      groupBy('age_udf').\\\n",
        "                          agg(\n",
        "                              F.count('Glucose').alias('UserCount'),\n",
        "                              F.mean('Glucose').alias('Glucose_AVG'),\n",
        "                              F.min('Glucose').alias('Glucose_MIN'),\n",
        "                              F.max('Glucose').alias('Glucose_MAX')).\\\n",
        "                          withColumn('total', sum(col('UserCount')).over(window)).\\\n",
        "                          withColumn('Percent', col('UserCount')*100 / col('total')).\\\n",
        "                          drop(col('total')).sort(desc('Percent'))"
      ]
    },
    {
      "cell_type": "code",
      "execution_count": null,
      "id": "cc06e7d2",
      "metadata": {
        "id": "cc06e7d2"
      },
      "outputs": [],
      "source": [
        "age_group_tab.toPandas()"
      ]
    },
    {
      "cell_type": "code",
      "execution_count": null,
      "id": "8c9ee3a4",
      "metadata": {
        "id": "8c9ee3a4"
      },
      "outputs": [],
      "source": [
        "\n",
        "sns.barplot(x=\"age_udf\", y=\"Percent\",data=age_group_tab.toPandas());"
      ]
    },
    {
      "cell_type": "code",
      "execution_count": null,
      "id": "068c0f0b",
      "metadata": {
        "id": "068c0f0b"
      },
      "outputs": [],
      "source": []
    }
  ],
  "metadata": {
    "kernelspec": {
      "display_name": "Python 3 (ipykernel)",
      "language": "python",
      "name": "python3"
    },
    "language_info": {
      "codemirror_mode": {
        "name": "ipython",
        "version": 3
      },
      "file_extension": ".py",
      "mimetype": "text/x-python",
      "name": "python",
      "nbconvert_exporter": "python",
      "pygments_lexer": "ipython3",
      "version": "3.11.4"
    },
    "colab": {
      "provenance": []
    }
  },
  "nbformat": 4,
  "nbformat_minor": 5
}